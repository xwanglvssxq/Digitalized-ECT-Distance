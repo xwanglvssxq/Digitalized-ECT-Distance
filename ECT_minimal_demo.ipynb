{
 "cells": [
  {
   "cell_type": "code",
   "execution_count": 8,
   "id": "4286d966",
   "metadata": {},
   "outputs": [],
   "source": [
    "from shape_reader import ShapeReader\n",
    "import numpy as np"
   ]
  },
  {
   "cell_type": "code",
   "execution_count": 9,
   "id": "f2bf817d",
   "metadata": {},
   "outputs": [],
   "source": [
    "s1=ShapeReader.shape_from_file('reg_tetra.off')\n",
    "s2=ShapeReader.shape_from_file('reg_tetra.off')\n",
    "for i in range(s1.V.shape[0]):\n",
    "    s1.V[i,:]=s1.V[i,:]/(np.sum(s1.V[i,:]**2)**(0.5))\n",
    "for i in range(s2.V.shape[0]):\n",
    "    s2.V[i,:]=s2.V[i,:]/(np.sum(s2.V[i,:]**2)**(0.5))\n",
    "    #v=v/sum(v**2)**(0.5)\n",
    "s1.prepare()\n",
    "s1.compute_links()\n",
    "s1.compute_TP_DT_vol3()\n",
    "s1.compute_gains()\n",
    "s1.clean_triangles()\n",
    "s2.prepare()\n",
    "s2.compute_links()\n",
    "s2.compute_TP_DT_vol3()\n",
    "s2.compute_gains()\n",
    "s2.clean_triangles()"
   ]
  },
  {
   "cell_type": "code",
   "execution_count": 10,
   "id": "5b727c86",
   "metadata": {},
   "outputs": [],
   "source": [
    "from spherical_integral import *\n",
    "from ECT_distance import *\n",
    "def compute_ECT_distance(s1,s2):\n",
    "    tmp=[]\n",
    "    for key in s1.clean_polygon_gains:\n",
    "        #tmp=[]\n",
    "        TMP=s1.clean_polygon_gains[key]\n",
    "        for j in range(TMP.shape[0]):\n",
    "            megatmp=[]\n",
    "            megatmp.append(TMP[j])\n",
    "            megatmp.append(s1.V[key,:])\n",
    "            megatmp.append(s1.polygon_angles[key][s1.polygon_triangles[key][j,:],:])\n",
    "            tmp.append(megatmp)\n",
    "    tmp2=[]\n",
    "    for key in s2.clean_polygon_gains:\n",
    "        #tmp=[]\n",
    "        TMP=-s2.clean_polygon_gains[key]\n",
    "        for j in range(TMP.shape[0]):\n",
    "            megatmp=[]\n",
    "            megatmp.append(TMP[j])\n",
    "            megatmp.append(s2.V[key,:])\n",
    "            megatmp.append(s2.polygon_angles[key][s2.polygon_triangles[key][j,:],:])\n",
    "            tmp2.append(megatmp)\n",
    "    ECT1=tmp\n",
    "    ECT2=tmp2\n",
    "    return(ECT_distance(ECT1,ECT2))"
   ]
  },
  {
   "cell_type": "code",
   "execution_count": 11,
   "id": "5f16c3ea",
   "metadata": {},
   "outputs": [
    {
     "name": "stderr",
     "output_type": "stream",
     "text": [
      "/media/iso/research23/xiaohan/tmp-repo/ECT_distance.py:108: RuntimeWarning: invalid value encountered in divide\n",
      "  v1 = v1_raw/np.linalg.norm(v1_raw)\n",
      "/media/iso/research23/xiaohan/tmp-repo/ECT_distance.py:109: RuntimeWarning: invalid value encountered in divide\n",
      "  v2 = v2_raw/np.linalg.norm(v2_raw)\n"
     ]
    }
   ],
   "source": [
    "d=compute_ECT_distance(s1,s2)"
   ]
  },
  {
   "cell_type": "code",
   "execution_count": 12,
   "id": "fc33aa66",
   "metadata": {},
   "outputs": [
    {
     "data": {
      "text/plain": [
       "array([8.0077811e-10])"
      ]
     },
     "execution_count": 12,
     "metadata": {},
     "output_type": "execute_result"
    }
   ],
   "source": [
    "d"
   ]
  },
  {
   "cell_type": "code",
   "execution_count": 14,
   "id": "73b6e851",
   "metadata": {},
   "outputs": [
    {
     "name": "stdout",
     "output_type": "stream",
     "text": [
      "6.283185307179586\n",
      "6.283185307179586\n",
      "6.283185307179586\n",
      "6.283185307179586\n"
     ]
    }
   ],
   "source": [
    "'''\n",
    "The area tests\n",
    "'''\n",
    "\n",
    "import math\n",
    "sum=0\n",
    "tol=0.000000000001\n",
    "for key in s1.clean_polygon_triangles:\n",
    "    subsum=0\n",
    "    t=s1.clean_polygon_triangles[key].shape[0]\n",
    "    for i in range(t):\n",
    "        #print(i)\n",
    "        #print(key)\n",
    "        T1=s1.polygon_angles[key][s1.clean_polygon_triangles[key][i,:],:]\n",
    "        #paska=R.random()\n",
    "        #T2=np.matmul(T1,paska.as_matrix())\n",
    "        p1=T1[0]\n",
    "        p2=T1[1]\n",
    "        p3=T1[2]\n",
    "        #print(T1)\n",
    "        A=sph_area(p1, p2, p3)\n",
    "        #print(A)\n",
    "        #print(s1.clean_polygon_triangles[key][i,:])\n",
    "        #print(A)\n",
    "        #print(A)\n",
    "        sum=sum+A\n",
    "        subsum=subsum+A\n",
    "    #print('---')\n",
    "    print(subsum)\n",
    "    #print('---')"
   ]
  },
  {
   "cell_type": "code",
   "execution_count": null,
   "id": "1d97bb46",
   "metadata": {},
   "outputs": [],
   "source": []
  }
 ],
 "metadata": {
  "kernelspec": {
   "display_name": "Python [conda env:november] *",
   "language": "python",
   "name": "conda-env-november-py"
  },
  "language_info": {
   "codemirror_mode": {
    "name": "ipython",
    "version": 3
   },
   "file_extension": ".py",
   "mimetype": "text/x-python",
   "name": "python",
   "nbconvert_exporter": "python",
   "pygments_lexer": "ipython3",
   "version": "3.9.18"
  }
 },
 "nbformat": 4,
 "nbformat_minor": 5
}
