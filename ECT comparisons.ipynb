{
 "cells": [
  {
   "cell_type": "code",
   "execution_count": null,
   "id": "8f17ab7c",
   "metadata": {},
   "outputs": [],
   "source": [
    "# In this script we compare the distances from the Digital version against some computed from sampling"
   ]
  },
  {
   "cell_type": "code",
   "execution_count": 10,
   "id": "87759cfd",
   "metadata": {},
   "outputs": [
    {
     "name": "stdout",
     "output_type": "stream",
     "text": [
      "500ECT/results/4/25.npy\n",
      "500ECT/results/4/94.npy\n",
      "500ECT/results/6/70.npy\n",
      "500ECT/results/25/4.npy\n",
      "500ECT/results/32/32.npy\n",
      "500ECT/results/38/111.npy\n",
      "500ECT/results/44/44.npy\n",
      "500ECT/results/56/56.npy\n",
      "500ECT/results/57/57.npy\n",
      "500ECT/results/65/91.npy\n",
      "500ECT/results/70/6.npy\n",
      "500ECT/results/79/79.npy\n",
      "500ECT/results/84/84.npy\n",
      "500ECT/results/84/112.npy\n",
      "500ECT/results/89/92.npy\n",
      "500ECT/results/91/65.npy\n",
      "500ECT/results/92/89.npy\n",
      "500ECT/results/94/4.npy\n",
      "500ECT/results/104/104.npy\n",
      "500ECT/results/111/38.npy\n",
      "500ECT/results/112/84.npy\n",
      "500ECT/results/113/113.npy\n"
     ]
    }
   ],
   "source": [
    "import os\n",
    "import numpy as np\n",
    "from shape_reader import ShapeReader\n",
    "import math\n",
    "import ect_tools\n",
    "import itertools\n",
    "from itertools import combinations\n",
    "import pandas as pd\n",
    "from numpy import genfromtxt\n",
    "fails=0 # Number of failed readings\n",
    "# Loop for reading in the Cross terms\n",
    "res=np.zeros([116,116])\n",
    "for i in range(1,117):\n",
    "    dimmu=str(i)\n",
    "    for j in range(1,117):\n",
    "        jimmu=str(j)\n",
    "        filename='500ECT/results/'+dimmu+'/'+jimmu+'.npy'\n",
    "        try:\n",
    "            res[i-1,j-1]=np.load(filename)\n",
    "        except:\n",
    "            res[i-1,j-1]=0\n",
    "            print(filename)\n",
    "            fails=fails+1\n",
    "\n",
    "D_ECT=np.zeros([116,116])\n",
    "for i in range(116):\n",
    "    for j in range(116):\n",
    "        cross=res[i,i]+res[j,j]-2*res[i,j] # Don't store negative values\n",
    "        D_ECT[i,j]=max(0,cross)"
   ]
  },
  {
   "cell_type": "code",
   "execution_count": 11,
   "id": "3ee6daf2",
   "metadata": {},
   "outputs": [
    {
     "name": "stdout",
     "output_type": "stream",
     "text": [
      "0\n",
      "1\n",
      "2\n",
      "3\n",
      "4\n",
      "5\n",
      "6\n",
      "7\n",
      "8\n",
      "9\n",
      "10\n",
      "11\n",
      "12\n",
      "13\n",
      "14\n",
      "15\n",
      "16\n",
      "17\n",
      "18\n",
      "19\n",
      "20\n",
      "21\n",
      "22\n",
      "23\n",
      "24\n",
      "25\n",
      "26\n",
      "27\n",
      "28\n",
      "29\n",
      "30\n",
      "31\n",
      "32\n",
      "33\n",
      "34\n",
      "35\n",
      "36\n",
      "37\n",
      "38\n",
      "39\n",
      "40\n",
      "41\n",
      "42\n",
      "43\n",
      "44\n",
      "45\n",
      "46\n",
      "47\n",
      "48\n",
      "49\n",
      "50\n",
      "51\n",
      "52\n",
      "53\n",
      "54\n",
      "55\n",
      "56\n",
      "57\n",
      "58\n",
      "59\n",
      "60\n",
      "61\n",
      "62\n",
      "63\n",
      "64\n",
      "65\n",
      "66\n",
      "67\n",
      "68\n",
      "69\n",
      "70\n",
      "71\n",
      "72\n",
      "73\n",
      "74\n",
      "75\n",
      "76\n",
      "77\n",
      "78\n",
      "79\n",
      "80\n",
      "81\n",
      "82\n",
      "83\n",
      "84\n",
      "85\n",
      "86\n",
      "87\n",
      "88\n",
      "89\n",
      "90\n",
      "91\n",
      "92\n",
      "93\n",
      "94\n",
      "95\n",
      "96\n",
      "97\n",
      "98\n",
      "99\n",
      "100\n",
      "101\n",
      "102\n",
      "103\n",
      "104\n",
      "105\n",
      "106\n",
      "107\n",
      "108\n",
      "109\n",
      "110\n",
      "111\n",
      "112\n",
      "113\n",
      "114\n",
      "115\n"
     ]
    }
   ],
   "source": [
    "# Doing the discrete version (Bad script but hey)\n",
    "df1 = pd.read_csv('500ECT/ECT.csv') # Need this to have the same order as the above\n",
    "n_h=10 # How many heights\n",
    "dirs = genfromtxt('directions326.csv', delimiter=',') # Just use the 300+ directions\n",
    "ndir=dirs.shape[0]\n",
    "heights=np.linspace(-1,1,n_h)\n",
    "lista=df1.iloc[:,1].values\n",
    "matrices=list()\n",
    "for k in range(len(lista)):\n",
    "    meshname=os.path.join('0.5kv_meshes/',lista[k])\n",
    "    s1=ShapeReader.shape_from_file(meshname)\n",
    "    s1.V=s1.V-np.mean(s1.V,0)\n",
    "    scales=[sum(tmp**2)**(0.5) for tmp in s1.V]\n",
    "    s1.V=s1.V/max(scales)\n",
    "    s1.prepare()\n",
    "    s1.prepare_for_MC()\n",
    "    matrix=np.zeros([n_h,ndir])\n",
    "    print(k)\n",
    "    for i in range(n_h):\n",
    "        threshold=heights[i]\n",
    "        for j in range(ndir):\n",
    "            direction=dirs[j]\n",
    "            matrix[i,j]=s1.compute_MC_ECT(direction,threshold)\n",
    "    matrices.append(matrix)"
   ]
  },
  {
   "cell_type": "code",
   "execution_count": 12,
   "id": "0ce39eb4",
   "metadata": {},
   "outputs": [],
   "source": [
    "MC_distances=np.zeros([116,116])\n",
    "for i in range(116):\n",
    "    for j in range(i):\n",
    "        MC_distances[i,j]=(np.sum((matrices[i]-matrices[j])**2))**0.5\n",
    "        MC_distances[j,i]=(np.sum((matrices[i]-matrices[j])**2))**0.5"
   ]
  },
  {
   "cell_type": "code",
   "execution_count": 15,
   "id": "4d38980c",
   "metadata": {},
   "outputs": [],
   "source": [
    "# Let's compare some\n",
    "D_ECT_c=D_ECT/np.max(D_ECT)\n",
    "MC_distances_c=MC_distances/np.max(MC_distances)\n",
    "import matplotlib.pyplot as plt"
   ]
  },
  {
   "cell_type": "code",
   "execution_count": 21,
   "id": "a81d8e60",
   "metadata": {},
   "outputs": [
    {
     "data": {
      "text/plain": [
       "<matplotlib.collections.PathCollection at 0x798eb7599820>"
      ]
     },
     "execution_count": 21,
     "metadata": {},
     "output_type": "execute_result"
    },
    {
     "data": {
      "image/png": "[encoded data removed]",
      "text/plain": [
       "<Figure size 640x480 with 1 Axes>"
      ]
     },
     "metadata": {},
     "output_type": "display_data"
    }
   ],
   "source": [
    "t=np.random.randint(116)\n",
    "plt.scatter(D_ECT_c[t,:],MC_distances_c[t,:])\n",
    "# Plot the distance from a random mesh to all the others\n",
    "# If everything was good, we would expect strong correlation"
   ]
  },
  {
   "cell_type": "code",
   "execution_count": null,
   "id": "3a20e313",
   "metadata": {},
   "outputs": [],
   "source": []
  },
  {
   "cell_type": "code",
   "execution_count": 38,
   "id": "2e82e17b",
   "metadata": {},
   "outputs": [],
   "source": [
    "# Generate random rotation\n",
    "alpha=np.random.rand()*2*math.pi\n",
    "beta=np.random.rand()*2*math.pi\n",
    "gamma=np.random.rand()*2*math.pi\n",
    "M1=ect_tools.M([1,0,0],alpha)\n",
    "M2=ect_tools.M([0,1,0],beta)\n",
    "M3=ect_tools.M([0,0,1],gamma)\n",
    "M=np.matmul(np.matmul(M1,M2),M3)"
   ]
  },
  {
   "cell_type": "code",
   "execution_count": 46,
   "id": "4ba589f6",
   "metadata": {},
   "outputs": [
    {
     "name": "stdout",
     "output_type": "stream",
     "text": [
      "0\n",
      "1\n",
      "2\n",
      "3\n",
      "4\n",
      "5\n",
      "6\n",
      "7\n",
      "8\n",
      "9\n",
      "10\n",
      "11\n",
      "12\n",
      "13\n",
      "14\n",
      "15\n",
      "16\n",
      "17\n",
      "18\n",
      "19\n",
      "20\n",
      "21\n",
      "22\n",
      "23\n",
      "24\n",
      "25\n",
      "26\n",
      "27\n",
      "28\n",
      "29\n",
      "30\n",
      "31\n",
      "32\n",
      "33\n",
      "34\n",
      "35\n",
      "36\n",
      "37\n",
      "38\n",
      "39\n",
      "40\n",
      "41\n",
      "42\n",
      "43\n",
      "44\n",
      "45\n",
      "46\n",
      "47\n",
      "48\n",
      "49\n",
      "50\n",
      "51\n",
      "52\n",
      "53\n",
      "54\n",
      "55\n",
      "56\n",
      "57\n",
      "58\n",
      "59\n",
      "60\n",
      "61\n",
      "62\n",
      "63\n",
      "64\n",
      "65\n",
      "66\n",
      "67\n",
      "68\n",
      "69\n",
      "70\n",
      "71\n",
      "72\n",
      "73\n",
      "74\n",
      "75\n",
      "76\n",
      "77\n",
      "78\n",
      "79\n",
      "80\n",
      "81\n",
      "82\n",
      "83\n",
      "84\n",
      "85\n",
      "86\n",
      "87\n",
      "88\n",
      "89\n",
      "90\n",
      "91\n",
      "92\n",
      "93\n",
      "94\n",
      "95\n",
      "96\n",
      "97\n",
      "98\n",
      "99\n",
      "100\n",
      "101\n",
      "102\n",
      "103\n",
      "104\n",
      "105\n",
      "106\n",
      "107\n",
      "108\n",
      "109\n",
      "110\n",
      "111\n",
      "112\n",
      "113\n",
      "114\n",
      "115\n"
     ]
    }
   ],
   "source": [
    "# Another comparison: Discrete vs discrete\n",
    "# Doing the discrete version (Bad script but hey)\n",
    "df1 = pd.read_csv('500ECT/ECT.csv') # Need this to have the same order as the above\n",
    "n_h=10 # How many heights\n",
    "dirs = genfromtxt('directions326.csv', delimiter=',') # Just use the 300+ directions\n",
    "dirs=np.matmul(dirs,M)\n",
    "ndir=dirs.shape[0]\n",
    "heights=np.linspace(-1,1,n_h)\n",
    "lista=df1.iloc[:,1].values\n",
    "matrices2=list()\n",
    "for k in range(len(lista)):\n",
    "    meshname=os.path.join('0.5kv_meshes/',lista[k])\n",
    "    s1=ShapeReader.shape_from_file(meshname)\n",
    "    s1.V=s1.V-np.mean(s1.V,0)\n",
    "    scales=[sum(tmp**2)**(0.5) for tmp in s1.V]\n",
    "    s1.V=s1.V/max(scales)\n",
    "    s1.prepare()\n",
    "    s1.prepare_for_MC()\n",
    "    matrix=np.zeros([n_h,ndir])\n",
    "    print(k)\n",
    "    for i in range(n_h):\n",
    "        threshold=heights[i]\n",
    "        for j in range(ndir):\n",
    "            direction=dirs[j]\n",
    "            matrix[i,j]=s1.compute_MC_ECT(direction,threshold)\n",
    "    matrices2.append(matrix)"
   ]
  },
  {
   "cell_type": "code",
   "execution_count": 48,
   "id": "b5e36722",
   "metadata": {},
   "outputs": [],
   "source": [
    "MC_distances2=np.zeros([116,116])\n",
    "for i in range(116):\n",
    "    for j in range(i):\n",
    "        MC_distances2[i,j]=(np.sum((matrices2[i]-matrices2[j])**2))**0.5\n",
    "        MC_distances2[j,i]=(np.sum((matrices2[i]-matrices2[j])**2))**0.5\n",
    "MC_distances2_c=MC_distances2/np.max(MC_distances2)"
   ]
  },
  {
   "cell_type": "code",
   "execution_count": 54,
   "id": "6fcf23ff",
   "metadata": {
    "scrolled": true
   },
   "outputs": [
    {
     "data": {
      "text/plain": [
       "<matplotlib.collections.PathCollection at 0x798eb518da30>"
      ]
     },
     "execution_count": 54,
     "metadata": {},
     "output_type": "execute_result"
    },
    {
     "data": {
      "image/png": "[encoded data removed]",
      "text/plain": [
       "<Figure size 640x480 with 1 Axes>"
      ]
     },
     "metadata": {},
     "output_type": "display_data"
    }
   ],
   "source": [
    "# Discrete against discrete\n",
    "t=np.random.randint(116)\n",
    "plt.scatter(MC_distances2_c[t,:],MC_distances_c[t,:])"
   ]
  },
  {
   "cell_type": "code",
   "execution_count": 60,
   "id": "bf002a72",
   "metadata": {},
   "outputs": [
    {
     "name": "stderr",
     "output_type": "stream",
     "text": [
      "/media/iso/conda/envs/november/lib/python3.9/site-packages/sklearn/manifold/_mds.py:506: UserWarning: The MDS API has changed. ``fit`` now constructs an dissimilarity matrix from data. To use a custom dissimilarity matrix, set ``dissimilarity='precomputed'``.\n",
      "  warnings.warn(\n"
     ]
    },
    {
     "data": {
      "text/plain": [
       "<matplotlib.collections.PathCollection at 0x798eb28642b0>"
      ]
     },
     "execution_count": 60,
     "metadata": {},
     "output_type": "execute_result"
    },
    {
     "data": {
      "image/png": "[encoded data removed]",
      "text/plain": [
       "<Figure size 640x480 with 1 Axes>"
      ]
     },
     "metadata": {},
     "output_type": "display_data"
    }
   ],
   "source": [
    "# Now some clustering without MSTS based on the discrete one:\n",
    "labels=genfromtxt('labels_tmp')\n",
    "from sklearn.manifold import MDS\n",
    "mds = MDS(random_state=0)\n",
    "X_transform = mds.fit_transform(MC_distances2_c)\n",
    "plt.scatter(X_transform[:,0],X_transform[:,1],c=labels)"
   ]
  },
  {
   "cell_type": "code",
   "execution_count": 58,
   "id": "4c962008",
   "metadata": {},
   "outputs": [
    {
     "name": "stderr",
     "output_type": "stream",
     "text": [
      "/media/iso/conda/envs/november/lib/python3.9/site-packages/sklearn/manifold/_mds.py:506: UserWarning: The MDS API has changed. ``fit`` now constructs an dissimilarity matrix from data. To use a custom dissimilarity matrix, set ``dissimilarity='precomputed'``.\n",
      "  warnings.warn(\n"
     ]
    },
    {
     "data": {
      "text/plain": [
       "<matplotlib.collections.PathCollection at 0x798eb295d220>"
      ]
     },
     "execution_count": 58,
     "metadata": {},
     "output_type": "execute_result"
    },
    {
     "data": {
      "image/png": "[encoded data removed]",
      "text/plain": [
       "<Figure size 640x480 with 1 Axes>"
      ]
     },
     "metadata": {},
     "output_type": "display_data"
    }
   ],
   "source": [
    "labels=genfromtxt('labels_tmp')\n",
    "from sklearn.manifold import MDS\n",
    "mds = MDS(random_state=0)\n",
    "X_transform = mds.fit_transform(D_ECT_c)\n",
    "plt.scatter(X_transform[:,0],X_transform[:,1],c=labels)"
   ]
  },
  {
   "cell_type": "code",
   "execution_count": null,
   "id": "043b93fd",
   "metadata": {},
   "outputs": [],
   "source": []
  }
 ],
 "metadata": {
  "kernelspec": {
   "display_name": "Python [conda env:november] *",
   "language": "python",
   "name": "conda-env-november-py"
  },
  "language_info": {
   "codemirror_mode": {
    "name": "ipython",
    "version": 3
   },
   "file_extension": ".py",
   "mimetype": "text/x-python",
   "name": "python",
   "nbconvert_exporter": "python",
   "pygments_lexer": "ipython3",
   "version": "3.9.18"
  }
 },
 "nbformat": 4,
 "nbformat_minor": 5
}
