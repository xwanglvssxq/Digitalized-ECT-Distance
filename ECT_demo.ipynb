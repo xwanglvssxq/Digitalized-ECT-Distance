{
 "cells": [
  {
   "cell_type": "code",
   "execution_count": 6,
   "id": "f5d11869",
   "metadata": {},
   "outputs": [
    {
     "name": "stdout",
     "output_type": "stream",
     "text": [
      "[0 1 2]\n",
      "0\n",
      "[[0 2 3]\n",
      " [1 2 3]]\n",
      "[[-0.52411449  0.52411449  0.67127347]\n",
      " [ 0.52411449 -0.52411449 -0.67127347]\n",
      " [ 0.32254643  0.85164787 -0.41310988]\n",
      " [ 0.47466204 -0.47466204  0.7412098 ]]\n",
      "[1 0 2]\n",
      "1\n",
      "[[0 2 3]\n",
      " [1 2 3]]\n",
      "[[ 0.52411449 -0.52411449 -0.67127347]\n",
      " [-0.52411449  0.52411449  0.67127347]\n",
      " [ 0.32254653  0.85164784 -0.41310987]\n",
      " [-0.83420162 -0.474662   -0.28071998]]\n",
      "[2 0 1]\n",
      "2\n",
      "[[0 2 3]\n",
      " [1 2 3]]\n",
      "[[-0.52411449  0.52411449  0.67127347]\n",
      " [ 0.52411449 -0.52411449 -0.67127347]\n",
      " [ 0.47466201 -0.47466201  0.74120984]\n",
      " [-0.83420156 -0.47466207 -0.28072004]]\n"
     ]
    }
   ],
   "source": [
    "from shape_reader import ShapeReader\n",
    "import numpy as np\n",
    "s2=ShapeReader.shape_from_file('octahedron.off')\n",
    "s2=ShapeReader.shape_from_file('mesh3b.off')\n",
    "s2=ShapeReader.shape_from_file('a10_sas_50.off')\n",
    "s2=ShapeReader.shape_from_file('reg_tetra.off')\n",
    "s2=ShapeReader.shape_from_file('triangle.off')\n",
    "for i in range(s2.V.shape[0]):\n",
    "    s2.V[i,:]=s2.V[i,:]/(np.sum(s2.V[i,:]**2)**(0.5))\n",
    "s2.prepare()\n",
    "s2.compute_links()\n",
    "s2.compute_TP_DT_vol4()\n",
    "s2.compute_gains()\n",
    "s2.clean_triangles()\n",
    "s2.orient_polygons()"
   ]
  },
  {
   "cell_type": "code",
   "execution_count": 11,
   "id": "d3f15955",
   "metadata": {},
   "outputs": [
    {
     "name": "stdout",
     "output_type": "stream",
     "text": [
      "4.323962956862482\n",
      "4.323963064241351\n",
      "3.918444717491653\n",
      "12.566370738595486\n"
     ]
    }
   ],
   "source": [
    "'''\n",
    "The area tests. For a water tight convex (hollow) surface we would expect\n",
    "total be about 25.132, or 8 pi\n",
    "\n",
    "For an arbitrary triangle this should be 4 pi\n",
    "'''\n",
    "from spherical_integral import *\n",
    "from ECT_distance import *\n",
    "import math\n",
    "sum=0\n",
    "tol=0.000000000001\n",
    "for key in s2.clean_polygon_triangles:\n",
    "    subsum=0\n",
    "    t=s2.clean_polygon_triangles[key].shape[0]\n",
    "    for i in range(t):\n",
    "        #print(i)\n",
    "        #print(key)\n",
    "        T1=s2.polygon_angles[key][s2.clean_polygon_triangles[key][i,:],:]\n",
    "        #paska=R.random()\n",
    "        #T2=np.matmul(T1,paska.as_matrix())\n",
    "        p1=T1[0]\n",
    "        p2=T1[1]\n",
    "        p3=T1[2]\n",
    "        #print(T1)\n",
    "        A=sph_area(p1, p2, p3)\n",
    "        #print(A)\n",
    "        #print(s1.clean_polygon_triangles[key][i,:])\n",
    "        #print(A)\n",
    "        #print(A)\n",
    "        sum=sum+A\n",
    "        subsum=subsum+A\n",
    "    #print('---')\n",
    "    print(subsum)\n",
    "    #print('---')\n",
    "print(sum)"
   ]
  },
  {
   "cell_type": "code",
   "execution_count": null,
   "id": "1badc800",
   "metadata": {},
   "outputs": [],
   "source": []
  }
 ],
 "metadata": {
  "kernelspec": {
   "display_name": "Python [conda env:november] *",
   "language": "python",
   "name": "conda-env-november-py"
  },
  "language_info": {
   "codemirror_mode": {
    "name": "ipython",
    "version": 3
   },
   "file_extension": ".py",
   "mimetype": "text/x-python",
   "name": "python",
   "nbconvert_exporter": "python",
   "pygments_lexer": "ipython3",
   "version": "3.9.18"
  }
 },
 "nbformat": 4,
 "nbformat_minor": 5
}
