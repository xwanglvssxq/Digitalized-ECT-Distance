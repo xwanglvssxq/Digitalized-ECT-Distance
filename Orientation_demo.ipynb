{
 "cells": [
  {
   "cell_type": "code",
   "execution_count": null,
   "id": "222d7d56",
   "metadata": {},
   "outputs": [],
   "source": [
    "from scipy.sparse.csgraph import minimum_spanning_tree"
   ]
  },
  {
   "cell_type": "code",
   "execution_count": null,
   "id": "f216d622",
   "metadata": {},
   "outputs": [],
   "source": [
    "from shape_reader import ShapeReader\n",
    "import numpy as np\n",
    "s1=ShapeReader.shape_from_file('octahedron.off')\n",
    "s2=ShapeReader.shape_from_file('tetra.off')\n",
    "for i in range(s1.V.shape[0]):\n",
    "    s1.V[i,:]=s1.V[i,:]/(np.sum(s1.V[i,:]**2)**(0.5))\n",
    "for i in range(s2.V.shape[0]):\n",
    "    s2.V[i,:]=s2.V[i,:]/(np.sum(s2.V[i,:]**2)**(0.5))\n",
    "    #v=v/sum(v**2)**(0.5)\n",
    "s1.prepare()\n",
    "s1.compute_links()\n",
    "s1.compute_TP_DT_vol3()\n",
    "s1.compute_gains()\n",
    "#s1.clean_triangles()\n",
    "s2.prepare()\n",
    "s2.compute_links()\n",
    "s2.compute_TP_DT_vol3()\n",
    "s2.compute_gains()\n",
    "s2.clean_triangles()"
   ]
  },
  {
   "cell_type": "code",
   "execution_count": null,
   "id": "4c0adf87",
   "metadata": {},
   "outputs": [],
   "source": [
    "s1.polygon_triangles[1]"
   ]
  },
  {
   "cell_type": "code",
   "execution_count": null,
   "id": "0d5f1ad0",
   "metadata": {},
   "outputs": [],
   "source": [
    "s1.polygon_triangles[1]"
   ]
  },
  {
   "cell_type": "code",
   "execution_count": null,
   "id": "b80737a2",
   "metadata": {},
   "outputs": [],
   "source": [
    "s1.orient_polygons()"
   ]
  },
  {
   "cell_type": "code",
   "execution_count": null,
   "id": "74a91bff",
   "metadata": {},
   "outputs": [],
   "source": [
    "def align_triangles(base,other):\n",
    "    edge=np.array([list(set.intersection(set(base),set(other)))])[0]\n",
    "    #print(edge)\n",
    "    tmp1=np.where(base==edge[0])[0][0]\n",
    "    tmp2=np.where(base==edge[1])[0][0]\n",
    "    tmp3=np.where(other==edge[0])[0][0]\n",
    "    tmp4=np.where(other==edge[1])[0][0]\n",
    "    oddoneout=list(set.difference(set([0,1,2]),set([tmp3,tmp4])))[0]\n",
    "    #print(tmp3)\n",
    "    #print(tmp4)\n",
    "    replacement=np.zeros(3)\n",
    "    if((tmp2-tmp1)%2==(tmp4-tmp3)%2): # Flip the triangle if same parity\n",
    "        replacement[oddoneout]=other[oddoneout]\n",
    "        replacement[tmp3]=other[tmp4]\n",
    "        replacement[tmp4]=other[tmp3]\n",
    "        #print(replacement)\n",
    "    else:\n",
    "        replacement[oddoneout]=other[oddoneout]\n",
    "        replacement[tmp4]=other[tmp4]\n",
    "        replacement[tmp3]=other[tmp3]\n",
    "    replacement=replacement.astype(int)\n",
    "    return(replacement)\n",
    "\n",
    "def orient_mst(transitive_closure,mst,triangles):\n",
    "    '''\n",
    "    Given a transitive closure and mst,\n",
    "    Orients the triangles\n",
    "    '''\n",
    "    nbs=np.stack([mst.nonzero()[0],mst.nonzero()[1]]).T\n",
    "    for i in range(len(list(t))):\n",
    "        root=np.array(list(t[i]))[0]\n",
    "        targetset=t[i]\n",
    "        seen=set([root])\n",
    "        unseen=set.difference(targetset,seen)\n",
    "        seenlist=list(seen)\n",
    "        while (len(unseen)>0):\n",
    "            new_nbs=nbs[np.where([len(set.intersection(set(nb),seen))==1 for nb in nbs])]\n",
    "            print(new_nbs)\n",
    "            newly_seen=nbs[np.where([len(set.intersection(set(nb),seen))==1 for nb in nbs])[0]]\n",
    "            seenones=[set(new) for new in newly_seen]\n",
    "            for j in range(len(seenones)):\n",
    "                edge=newly_seen[j,:]\n",
    "                if len(set.intersection(set([edge[0]]),seen))==1:\n",
    "                    base=edge[0]\n",
    "                    other=edge[1]\n",
    "                else:\n",
    "                    base=edge[1]\n",
    "                    other=edges[0]\n",
    "                print(triangles[other,:])\n",
    "                print(triangles[base,:])\n",
    "                triangles[other,:]=align_triangles(triangles[base,:],triangles[other,:])\n",
    "                seen=set.union(seen,set(seenones[j]))\n",
    "                unseen=set.difference(targetset,seen)\n",
    "    return(triangles)\n",
    "\n",
    "def transitive_closure(mst):\n",
    "    '''\n",
    "    Given a minimal spanning forest\n",
    "    computes the transitive closure of the nbd relations\n",
    "    '''\n",
    "    nbs=np.stack([mst.nonzero()[0],mst.nonzero()[1]]).T\n",
    "    #print(nbs)\n",
    "    cap=nbs.shape[0]**2\n",
    "    grand_sum=0\n",
    "    sets=[set(nb) for nb in nbs]\n",
    "    while grand_sum<cap:\n",
    "        for i in range(len(sets)):\n",
    "            total=sum(len(set1) for set1 in sets)\n",
    "            element=sets[i]\n",
    "            new_element=element\n",
    "            #print(element)\n",
    "            inds=np.where([len(set.intersection(element,element2))>0 for element2 in sets])\n",
    "            tmp_nbs=nbs[inds]\n",
    "            set2=[set(nb) for nb in tmp_nbs]\n",
    "            for j in range(len(set2)):\n",
    "                new_element=set.union(new_element,set2[j])\n",
    "            sets[i]=new_element\n",
    "        new_total=sum(len(set1) for set1 in sets)\n",
    "        if new_total==total:\n",
    "            #print(sets)\n",
    "            return(np.unique(sets))"
   ]
  },
  {
   "cell_type": "code",
   "execution_count": null,
   "id": "72e18317",
   "metadata": {},
   "outputs": [],
   "source": [
    "    def orient_polygons(self):\n",
    "        for key in self.polygon_triangles:\n",
    "            triangles=self.polygon_triangles[key]\n",
    "            n=triangles.shape[0]\n",
    "            dm=np.zeros([n,n])\n",
    "            for i in range(n):\n",
    "                triangle=triangles[i,:]\n",
    "                dm[i,:]=np.array([len(set.intersection(set(triangle),set(triangles[i,:])))==2 \\\n",
    "                                  for i in range(triangles.shape[0])]).astype(int)\n",
    "            mst=minimum_spanning_tree(dm)\n",
    "            t=ect_tools.transitive_closure(mst)\n",
    "            self.polygon_triangles[key]=ect_tools.orient_mst(t,mst,triangles)"
   ]
  },
  {
   "cell_type": "code",
   "execution_count": null,
   "id": "b571eae0",
   "metadata": {},
   "outputs": [],
   "source": [
    "key=5\n",
    "triangles=s1.polygon_triangles[key]\n",
    "n=triangles.shape[0]\n",
    "dm=np.zeros([n,n])\n",
    "for i in range(n):\n",
    "    triangle=triangles[i,:]\n",
    "    dm[i,:]=np.array([len(set.intersection(set(triangle),set(triangles[i,:])))==2 for i in range(triangles.shape[0])]).astype(int)\n",
    "mst=minimum_spanning_tree(dm)"
   ]
  },
  {
   "cell_type": "code",
   "execution_count": null,
   "id": "d7778ebb",
   "metadata": {},
   "outputs": [],
   "source": [
    "t=transitive_closure(mst)\n",
    "paska=orient_mst(t,mst,triangles)"
   ]
  },
  {
   "cell_type": "code",
   "execution_count": null,
   "id": "cc834a2f",
   "metadata": {},
   "outputs": [],
   "source": [
    "paska"
   ]
  },
  {
   "cell_type": "code",
   "execution_count": null,
   "id": "baa9063b",
   "metadata": {},
   "outputs": [],
   "source": [
    "triangles"
   ]
  },
  {
   "cell_type": "code",
   "execution_count": null,
   "id": "8ff9bc86",
   "metadata": {},
   "outputs": [],
   "source": []
  }
 ],
 "metadata": {
  "kernelspec": {
   "display_name": "Python [conda env:november] *",
   "language": "python",
   "name": "conda-env-november-py"
  },
  "language_info": {
   "codemirror_mode": {
    "name": "ipython",
    "version": 3
   },
   "file_extension": ".py",
   "mimetype": "text/x-python",
   "name": "python",
   "nbconvert_exporter": "python",
   "pygments_lexer": "ipython3",
   "version": "3.9.18"
  }
 },
 "nbformat": 4,
 "nbformat_minor": 5
}
