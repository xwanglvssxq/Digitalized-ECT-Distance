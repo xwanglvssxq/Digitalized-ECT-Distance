{
 "cells": [
  {
   "cell_type": "code",
   "execution_count": 1,
   "id": "4ad562fb-6bc7-4e4f-9e17-7f9fbf3ee481",
   "metadata": {
    "execution": {
     "iopub.execute_input": "2024-04-23T23:56:53.508930Z",
     "iopub.status.busy": "2024-04-23T23:56:53.508094Z",
     "iopub.status.idle": "2024-04-23T23:56:54.428852Z",
     "shell.execute_reply": "2024-04-23T23:56:54.427862Z",
     "shell.execute_reply.started": "2024-04-23T23:56:53.508858Z"
    },
    "tags": []
   },
   "outputs": [],
   "source": [
    "import ect_slurm_tools as ect\n",
    "import PolygonECT as poly\n",
    "import numpy as np\n",
    "from shape_reader import ShapeReader\n",
    "import MC_ECT_distance as mc"
   ]
  },
  {
   "cell_type": "code",
   "execution_count": 2,
   "id": "75460a9d-d66d-47cf-bca2-270ad3f6ce1d",
   "metadata": {
    "execution": {
     "iopub.execute_input": "2024-04-23T23:57:02.406028Z",
     "iopub.status.busy": "2024-04-23T23:57:02.404917Z",
     "iopub.status.idle": "2024-04-23T23:57:02.416144Z",
     "shell.execute_reply": "2024-04-23T23:57:02.413600Z",
     "shell.execute_reply.started": "2024-04-23T23:57:02.405954Z"
    },
    "tags": []
   },
   "outputs": [],
   "source": [
    "#TEST 1: rotation of octohedron"
   ]
  },
  {
   "cell_type": "code",
   "execution_count": 3,
   "id": "6b66f52d-b83a-4184-9af0-7a7a86a1f361",
   "metadata": {
    "execution": {
     "iopub.execute_input": "2024-04-23T23:57:43.209443Z",
     "iopub.status.busy": "2024-04-23T23:57:43.208547Z",
     "iopub.status.idle": "2024-04-23T23:57:43.349592Z",
     "shell.execute_reply": "2024-04-23T23:57:43.348250Z",
     "shell.execute_reply.started": "2024-04-23T23:57:43.209368Z"
    },
    "tags": []
   },
   "outputs": [],
   "source": [
    "s1=ShapeReader.shape_from_file('octahedron.off')\n",
    "s1.V = s1.V-np.mean(s1.V,0)\n",
    "scales = [sum(tmp**2)**(0.5) for tmp in s1.V]\n",
    "s1.V = s1.V/max(scales)\n",
    "s1.prepare()\n",
    "s1.compute_links()\n",
    "s1.compute_polygons()\n",
    "s1.compute_gains2()\n",
    "s1.clean_gains2()\n",
    "ECT1=poly.return_ECT(s1)\n",
    "\n",
    "v = [0,0,1]\n",
    "degrees = 30\n",
    "s2=ShapeReader.shape_from_file('octahedron.off')\n",
    "for i in range(s2.V.shape[0]):\n",
    "    s2.V[i,:] = poly.rotate_axis(s2.V[i,:], v, degrees)\n",
    "s2.V = s2.V-np.mean(s2.V,0)\n",
    "scales = [sum(tmp**2)**(0.5) for tmp in s2.V]\n",
    "s2.V = s2.V/max(scales)\n",
    "s2.prepare()\n",
    "s2.compute_links()\n",
    "s2.compute_polygons()\n",
    "s2.compute_gains2()\n",
    "s2.clean_gains2()\n",
    "ECT2=poly.return_ECT(s2)"
   ]
  },
  {
   "cell_type": "code",
   "execution_count": 4,
   "id": "4db0b43a-65cb-4a09-8db6-9011abba4b2d",
   "metadata": {
    "execution": {
     "iopub.execute_input": "2024-04-23T23:57:58.218328Z",
     "iopub.status.busy": "2024-04-23T23:57:58.217490Z",
     "iopub.status.idle": "2024-04-23T23:57:58.603273Z",
     "shell.execute_reply": "2024-04-23T23:57:58.602301Z",
     "shell.execute_reply.started": "2024-04-23T23:57:58.218253Z"
    },
    "tags": []
   },
   "outputs": [],
   "source": [
    "import os\n",
    "import numpy as np\n",
    "from shape_reader import ShapeReader\n",
    "import math\n",
    "import ect_tools\n",
    "import itertools\n",
    "from itertools import combinations\n",
    "import pandas as pd\n",
    "from numpy import genfromtxt"
   ]
  },
  {
   "cell_type": "code",
   "execution_count": 7,
   "id": "6ba49c30-d4ae-46df-b265-5b19b20340ae",
   "metadata": {
    "execution": {
     "iopub.execute_input": "2024-04-23T23:58:45.488320Z",
     "iopub.status.busy": "2024-04-23T23:58:45.487425Z",
     "iopub.status.idle": "2024-04-23T23:58:45.509020Z",
     "shell.execute_reply": "2024-04-23T23:58:45.506780Z",
     "shell.execute_reply.started": "2024-04-23T23:58:45.488241Z"
    },
    "tags": []
   },
   "outputs": [],
   "source": [
    "def MCECT(meshname='octahedron.off', v = [0,0,1], degrees=0, n_h = 10):\n",
    "    dirs = genfromtxt('directions326.csv', delimiter=',')\n",
    "    ndir=dirs.shape[0]\n",
    "    heights=np.linspace(-1,1,n_h)\n",
    "    s1=ShapeReader.shape_from_file(meshname)\n",
    "    for i in range(s1.V.shape[0]):\n",
    "        s1.V[i,:] = poly.rotate_axis(s1.V[i,:], v, degrees)\n",
    "    s1.V=s1.V-np.mean(s1.V,0)\n",
    "    scales=[sum(tmp**2)**(0.5) for tmp in s1.V]\n",
    "    s1.V=s1.V/max(scales)\n",
    "    s1.prepare()\n",
    "    s1.prepare_for_MC()\n",
    "    matrix=np.zeros([n_h,ndir])\n",
    "    for i in range(n_h):\n",
    "        threshold=heights[i]\n",
    "        for j in range(ndir):\n",
    "            direction=dirs[j]\n",
    "            matrix[i,j]=s1.compute_MC_ECT(direction,threshold)\n",
    "    return matrix"
   ]
  },
  {
   "cell_type": "code",
   "execution_count": 9,
   "id": "f9428ea1-30b1-4373-855e-ace7e417e72a",
   "metadata": {
    "execution": {
     "iopub.execute_input": "2024-04-23T23:58:57.083465Z",
     "iopub.status.busy": "2024-04-23T23:58:57.082630Z",
     "iopub.status.idle": "2024-04-23T23:59:23.360743Z",
     "shell.execute_reply": "2024-04-23T23:59:23.359571Z",
     "shell.execute_reply.started": "2024-04-23T23:58:57.083393Z"
    },
    "tags": []
   },
   "outputs": [
    {
     "name": "stdout",
     "output_type": "stream",
     "text": [
      "n= 10 sum= 0.06257668711656442\n",
      "n= 20 sum= 0.0705521472392638\n",
      "n= 50 sum= 0.0792638036809816\n",
      "n= 100 sum= 0.07987730061349693\n",
      "n= 200 sum= 0.0801840490797546\n",
      "n= 300 sum= 0.08044989775051124\n",
      "n= 500 sum= 0.08031901840490797\n"
     ]
    }
   ],
   "source": [
    "values = [10, 20, 50, 100, 200, 300, 500]\n",
    "for n in values:\n",
    "    m1 = MCECT(n_h = n)\n",
    "    m2 = MCECT(degrees = 30, n_h = n)\n",
    "    ectsum=np.sum((m1-m2)**2)/(326*n)\n",
    "    print('n=', n, 'sum=', ectsum)"
   ]
  },
  {
   "cell_type": "code",
   "execution_count": 10,
   "id": "512f0689-aa0a-4402-976b-2065018a162a",
   "metadata": {
    "execution": {
     "iopub.execute_input": "2024-04-23T23:59:51.857806Z",
     "iopub.status.busy": "2024-04-23T23:59:51.856922Z",
     "iopub.status.idle": "2024-04-23T23:59:57.368586Z",
     "shell.execute_reply": "2024-04-23T23:59:57.367343Z",
     "shell.execute_reply.started": "2024-04-23T23:59:51.857736Z"
    },
    "tags": []
   },
   "outputs": [
    {
     "name": "stdout",
     "output_type": "stream",
     "text": [
      "n= 500 mcect= 0.08\n",
      "n= 1000 mcect= 0.061\n",
      "n= 5000 mcect= 0.0778\n",
      "n= 10000 mcect= 0.0758\n"
     ]
    }
   ],
   "source": [
    "nums = [500, 1000, 5000, 10000]\n",
    "for n in nums:\n",
    "    mcvalue = mc.ECT_distance_MC(s1, s2, num_pts = n)\n",
    "    print('n=', n, 'mcect=', mcvalue)"
   ]
  },
  {
   "cell_type": "code",
   "execution_count": 11,
   "id": "cac47af2-b0f7-4012-a2cc-b6968b7894ba",
   "metadata": {
    "execution": {
     "iopub.execute_input": "2024-04-24T00:01:19.079968Z",
     "iopub.status.busy": "2024-04-24T00:01:19.079072Z",
     "iopub.status.idle": "2024-04-24T00:01:19.701734Z",
     "shell.execute_reply": "2024-04-24T00:01:19.700664Z",
     "shell.execute_reply.started": "2024-04-24T00:01:19.079900Z"
    },
    "tags": []
   },
   "outputs": [
    {
     "data": {
      "text/plain": [
       "array([0.08018581])"
      ]
     },
     "execution_count": 11,
     "metadata": {},
     "output_type": "execute_result"
    }
   ],
   "source": [
    "d12=ect.compute_ECT_distance_p(ECT1, ECT2)\n",
    "d11=ect.compute_ECT_distance_p(ECT1, ECT1) \n",
    "d22=ect.compute_ECT_distance_p(ECT2, ECT2)\n",
    "(d11+d22-2*d12)/(8*np.pi)"
   ]
  },
  {
   "cell_type": "code",
   "execution_count": 12,
   "id": "ed708d02-b4c5-4931-b97b-cbe8b76cb600",
   "metadata": {
    "execution": {
     "iopub.execute_input": "2024-04-24T00:02:07.864261Z",
     "iopub.status.busy": "2024-04-24T00:02:07.863384Z",
     "iopub.status.idle": "2024-04-24T00:02:07.874079Z",
     "shell.execute_reply": "2024-04-24T00:02:07.871893Z",
     "shell.execute_reply.started": "2024-04-24T00:02:07.864189Z"
    },
    "tags": []
   },
   "outputs": [],
   "source": [
    "#TEST 2: on small real meshes(rotation)"
   ]
  },
  {
   "cell_type": "code",
   "execution_count": 13,
   "id": "569dcaa2-b99f-42d3-b364-f5cd2e2e31ba",
   "metadata": {
    "execution": {
     "iopub.execute_input": "2024-04-24T00:02:22.130296Z",
     "iopub.status.busy": "2024-04-24T00:02:22.129426Z",
     "iopub.status.idle": "2024-04-24T00:02:22.777452Z",
     "shell.execute_reply": "2024-04-24T00:02:22.776670Z",
     "shell.execute_reply.started": "2024-04-24T00:02:22.130225Z"
    },
    "tags": []
   },
   "outputs": [],
   "source": [
    "s1=ShapeReader.shape_from_file('U02_sas_aligned.off')\n",
    "s1.V = s1.V-np.mean(s1.V,0)\n",
    "scales = [sum(tmp**2)**(0.5) for tmp in s1.V]\n",
    "s1.V = s1.V/max(scales)\n",
    "s1.prepare()\n",
    "s1.compute_links()\n",
    "s1.compute_polygons()\n",
    "s1.compute_gains2()\n",
    "s1.clean_gains2()\n",
    "ECT1=poly.return_ECT(s1)\n",
    "\n",
    "v = [0,0,1]\n",
    "degrees = 60\n",
    "s2=ShapeReader.shape_from_file('U02_sas_aligned.off')\n",
    "s2.V = s2.V-np.mean(s2.V,0)\n",
    "scales = [sum(tmp**2)**(0.5) for tmp in s2.V]\n",
    "s2.V = s2.V/max(scales)\n",
    "\n",
    "for i in range(s2.V.shape[0]):\n",
    "    s2.V[i,:] = poly.rotate_axis(s2.V[i,:], v, degrees)\n",
    "\n",
    "s2.prepare()\n",
    "s2.compute_links()\n",
    "s2.compute_polygons()\n",
    "s2.compute_gains2()\n",
    "s2.clean_gains2()\n",
    "ECT2=poly.return_ECT(s2)"
   ]
  },
  {
   "cell_type": "code",
   "execution_count": 25,
   "id": "9408b695-e09a-4e8c-af89-0d11185a4ffa",
   "metadata": {
    "execution": {
     "iopub.execute_input": "2024-04-24T00:13:04.176610Z",
     "iopub.status.busy": "2024-04-24T00:13:04.175780Z",
     "iopub.status.idle": "2024-04-24T00:13:31.166642Z",
     "shell.execute_reply": "2024-04-24T00:13:31.165489Z",
     "shell.execute_reply.started": "2024-04-24T00:13:04.176540Z"
    },
    "tags": []
   },
   "outputs": [
    {
     "name": "stdout",
     "output_type": "stream",
     "text": [
      "n= 500 mcect= 0.204\n",
      "n= 1000 mcect= 0.182\n",
      "n= 5000 mcect= 0.1858\n",
      "n= 10000 mcect= 0.1738\n"
     ]
    }
   ],
   "source": [
    "#reference value\n",
    "nums = [500, 1000, 5000, 10000]\n",
    "for n in nums:\n",
    "    mcval = mc.ECT_distance_MC(s1, s2, num_pts = n)\n",
    "    print('n=', n, 'mcect=', mcval)"
   ]
  },
  {
   "cell_type": "code",
   "execution_count": 15,
   "id": "1cf26464-ce9d-4c31-b621-d325f82866f1",
   "metadata": {
    "execution": {
     "iopub.execute_input": "2024-04-24T00:03:51.083794Z",
     "iopub.status.busy": "2024-04-24T00:03:51.082880Z",
     "iopub.status.idle": "2024-04-24T00:04:29.307543Z",
     "shell.execute_reply": "2024-04-24T00:04:29.306313Z",
     "shell.execute_reply.started": "2024-04-24T00:03:51.083718Z"
    },
    "tags": []
   },
   "outputs": [
    {
     "name": "stdout",
     "output_type": "stream",
     "text": [
      "n= 10 sum= 0.16840490797546012\n",
      "n= 20 sum= 0.17684049079754602\n",
      "n= 50 sum= 0.18478527607361964\n",
      "n= 100 sum= 0.18745398773006136\n",
      "n= 200 sum= 0.1893558282208589\n",
      "n= 300 sum= 0.18947852760736197\n",
      "n= 500 sum= 0.18971779141104295\n"
     ]
    }
   ],
   "source": [
    "values = [10, 20, 50, 100, 200, 300, 500]\n",
    "for n in values:\n",
    "    m1 = MCECT(meshname='U02_sas_aligned.off', n_h = n)\n",
    "    m2 = MCECT(meshname='U02_sas_aligned.off', degrees = 60, n_h = n)\n",
    "    ectsum=np.sum((m1-m2)**2)/(326*n)\n",
    "    print('n=', n, 'sum=', ectsum)"
   ]
  },
  {
   "cell_type": "code",
   "execution_count": 16,
   "id": "deaff4f3-5d6f-4525-817a-2886c8d40bcd",
   "metadata": {
    "execution": {
     "iopub.execute_input": "2024-04-24T00:04:38.174490Z",
     "iopub.status.busy": "2024-04-24T00:04:38.173583Z",
     "iopub.status.idle": "2024-04-24T00:05:10.530226Z",
     "shell.execute_reply": "2024-04-24T00:05:10.529115Z",
     "shell.execute_reply.started": "2024-04-24T00:04:38.174419Z"
    },
    "tags": []
   },
   "outputs": [
    {
     "data": {
      "text/plain": [
       "array([0.19629401])"
      ]
     },
     "execution_count": 16,
     "metadata": {},
     "output_type": "execute_result"
    }
   ],
   "source": [
    "d12=ect.compute_ECT_distance_p(ECT1, ECT2)\n",
    "d11=ect.compute_ECT_distance_p(ECT1, ECT1) \n",
    "d22=ect.compute_ECT_distance_p(ECT2, ECT2)\n",
    "(d11+d22-2*d12)/(8*np.pi)"
   ]
  },
  {
   "cell_type": "code",
   "execution_count": 17,
   "id": "95636211-934b-4384-94f2-f51b643d0b27",
   "metadata": {
    "execution": {
     "iopub.execute_input": "2024-04-24T00:06:28.035758Z",
     "iopub.status.busy": "2024-04-24T00:06:28.034799Z",
     "iopub.status.idle": "2024-04-24T00:06:28.046600Z",
     "shell.execute_reply": "2024-04-24T00:06:28.043820Z",
     "shell.execute_reply.started": "2024-04-24T00:06:28.035672Z"
    },
    "tags": []
   },
   "outputs": [],
   "source": [
    "# TEST 3: compare two meshes"
   ]
  },
  {
   "cell_type": "code",
   "execution_count": 18,
   "id": "2d81b8c6-93de-4ea4-90a8-5113df863b2a",
   "metadata": {
    "execution": {
     "iopub.execute_input": "2024-04-24T00:06:43.162626Z",
     "iopub.status.busy": "2024-04-24T00:06:43.161787Z",
     "iopub.status.idle": "2024-04-24T00:06:43.850490Z",
     "shell.execute_reply": "2024-04-24T00:06:43.848893Z",
     "shell.execute_reply.started": "2024-04-24T00:06:43.162557Z"
    },
    "tags": []
   },
   "outputs": [],
   "source": [
    "s1=ShapeReader.shape_from_file('U02_sas_aligned.off')\n",
    "s1.V = s1.V-np.mean(s1.V,0)\n",
    "scales = [sum(tmp**2)**(0.5) for tmp in s1.V]\n",
    "s1.V = s1.V/max(scales)\n",
    "s1.prepare()\n",
    "s1.compute_links()\n",
    "s1.compute_polygons()\n",
    "s1.compute_gains2()\n",
    "s1.clean_gains2()\n",
    "ECT1=poly.return_ECT(s1)\n",
    "\n",
    "v = [0,0,1]\n",
    "degrees = 0\n",
    "s2=ShapeReader.shape_from_file('x21_sas_aligned.off')\n",
    "s2.V = s2.V-np.mean(s2.V,0)\n",
    "scales = [sum(tmp**2)**(0.5) for tmp in s2.V]\n",
    "s2.V = s2.V/max(scales)\n",
    "\n",
    "for i in range(s2.V.shape[0]):\n",
    "    s2.V[i,:] = poly.rotate_axis(s2.V[i,:], v, degrees)\n",
    "\n",
    "s2.prepare()\n",
    "s2.compute_links()\n",
    "s2.compute_polygons()\n",
    "s2.compute_gains2()\n",
    "s2.clean_gains2()\n",
    "ECT2=poly.return_ECT(s2)"
   ]
  },
  {
   "cell_type": "code",
   "execution_count": 19,
   "id": "d3b74b5e-b2b5-44ac-9e74-f3bd9cf45417",
   "metadata": {
    "execution": {
     "iopub.execute_input": "2024-04-24T00:06:54.343502Z",
     "iopub.status.busy": "2024-04-24T00:06:54.341196Z",
     "iopub.status.idle": "2024-04-24T00:07:21.541537Z",
     "shell.execute_reply": "2024-04-24T00:07:21.540331Z",
     "shell.execute_reply.started": "2024-04-24T00:06:54.343419Z"
    },
    "tags": []
   },
   "outputs": [
    {
     "name": "stdout",
     "output_type": "stream",
     "text": [
      "n= 500 mcect= 0.178\n",
      "n= 1000 mcect= 0.161\n",
      "n= 5000 mcect= 0.171\n",
      "n= 10000 mcect= 0.183\n"
     ]
    }
   ],
   "source": [
    "#reference value\n",
    "nums = [500, 1000, 5000, 10000]\n",
    "for n in nums:\n",
    "    mcval = mc.ECT_distance_MC(s1, s2, num_pts = n)\n",
    "    print('n=', n, 'mcect=', mcval)"
   ]
  },
  {
   "cell_type": "code",
   "execution_count": 23,
   "id": "4ad4e8d3-5ab3-4776-9309-92ac88267ee3",
   "metadata": {
    "execution": {
     "iopub.execute_input": "2024-04-24T00:09:48.252351Z",
     "iopub.status.busy": "2024-04-24T00:09:48.251509Z",
     "iopub.status.idle": "2024-04-24T00:10:26.648543Z",
     "shell.execute_reply": "2024-04-24T00:10:26.647336Z",
     "shell.execute_reply.started": "2024-04-24T00:09:48.252281Z"
    },
    "tags": []
   },
   "outputs": [
    {
     "name": "stdout",
     "output_type": "stream",
     "text": [
      "n= 10 sum= 0.14079754601226993\n",
      "n= 20 sum= 0.1668711656441718\n",
      "n= 50 sum= 0.1716564417177914\n",
      "n= 100 sum= 0.17042944785276073\n",
      "n= 200 sum= 0.1731288343558282\n",
      "n= 300 sum= 0.17367075664621676\n",
      "n= 500 sum= 0.17384049079754602\n"
     ]
    }
   ],
   "source": [
    "values = [10, 20, 50, 100, 200, 300, 500]\n",
    "for n in values:\n",
    "    m1 = MCECT(meshname='U02_sas_aligned.off', n_h = n)\n",
    "    m2 = MCECT(meshname='x21_sas_aligned.off', n_h = n)\n",
    "    ectsum=np.sum((m1-m2)**2)/(326*n)\n",
    "    print('n=', n, 'sum=', ectsum)"
   ]
  },
  {
   "cell_type": "code",
   "execution_count": 21,
   "id": "d98d5283-254e-4498-be23-3f9078fc98f9",
   "metadata": {
    "execution": {
     "iopub.execute_input": "2024-04-24T00:07:59.722386Z",
     "iopub.status.busy": "2024-04-24T00:07:59.722146Z",
     "iopub.status.idle": "2024-04-24T00:08:35.106800Z",
     "shell.execute_reply": "2024-04-24T00:08:35.104799Z",
     "shell.execute_reply.started": "2024-04-24T00:07:59.722365Z"
    },
    "tags": []
   },
   "outputs": [
    {
     "data": {
      "text/plain": [
       "array([0.17434947])"
      ]
     },
     "execution_count": 21,
     "metadata": {},
     "output_type": "execute_result"
    }
   ],
   "source": [
    "d12=ect.compute_ECT_distance_p(ECT1, ECT2)\n",
    "d11=ect.compute_ECT_distance_p(ECT1, ECT1) \n",
    "d22=ect.compute_ECT_distance_p(ECT2, ECT2)\n",
    "(d11+d22-2*d12)/(8*np.pi)"
   ]
  }
 ],
 "metadata": {
  "kernelspec": {
   "display_name": "Python3",
   "language": "python",
   "name": "python3"
  },
  "language_info": {
   "codemirror_mode": {
    "name": "ipython",
    "version": 3
   },
   "file_extension": ".py",
   "mimetype": "text/x-python",
   "name": "python",
   "nbconvert_exporter": "python",
   "pygments_lexer": "ipython3",
   "version": "3.11.5"
  }
 },
 "nbformat": 4,
 "nbformat_minor": 5
}
