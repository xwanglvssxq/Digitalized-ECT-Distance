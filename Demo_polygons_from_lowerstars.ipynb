{
 "cells": [
  {
   "cell_type": "code",
   "execution_count": 1,
   "id": "c810ea67",
   "metadata": {},
   "outputs": [],
   "source": [
    "import numpy as np\n",
    "from shape_reader import ShapeReader\n",
    "import math\n",
    "import ect_tools\n",
    "import itertools\n",
    "from itertools import combinations\n",
    "s1=ShapeReader.shape_from_file('H16_sas_aligned.off')\n",
    "for i in range(s1.V.shape[0]):\n",
    "    s1.V[i,:] = s1.V[i,:]/(np.sum(s1.V[i,:]**2)**(0.5))\n",
    "s1.prepare()"
   ]
  },
  {
   "cell_type": "code",
   "execution_count": 2,
   "id": "7df47487",
   "metadata": {},
   "outputs": [
    {
     "data": {
      "text/plain": [
       "True"
      ]
     },
     "execution_count": 2,
     "metadata": {},
     "output_type": "execute_result"
    }
   ],
   "source": [
    "# The steps to produce clean polygons and gains:\n",
    "s1.compute_links()\n",
    "s1.compute_polygons()\n",
    "s1.compute_gains2()\n",
    "s1.clean_gains2()"
   ]
  },
  {
   "cell_type": "code",
   "execution_count": 7,
   "id": "cdb838e2",
   "metadata": {},
   "outputs": [
    {
     "data": {
      "text/plain": [
       "array([[-1.],\n",
       "       [-1.],\n",
       "       [-1.],\n",
       "       [-1.],\n",
       "       [-1.],\n",
       "       [-1.],\n",
       "       [-1.],\n",
       "       [ 1.],\n",
       "       [ 1.],\n",
       "       [ 1.],\n",
       "       [-1.],\n",
       "       [-1.],\n",
       "       [-1.],\n",
       "       [-1.],\n",
       "       [-1.],\n",
       "       [-1.],\n",
       "       [-1.],\n",
       "       [-1.]])"
      ]
     },
     "execution_count": 7,
     "metadata": {},
     "output_type": "execute_result"
    }
   ],
   "source": [
    "# Example\n",
    "# Active vertex 58, i.e. s1.V[58,:]\n",
    "key=58\n",
    "s1.polygon_angles[key] # The vertices of the polygons\n",
    "s1.clean_polygons[key] # All the polygons corresponding\n",
    "# to different lowerstars involving 58 where 58 active\n",
    "# The indices are in reference to polygon_angles\n",
    "s1.clean_polygon_gains[key] # The gain in ECT associated to each polygon in clean_polygons"
   ]
  },
  {
   "cell_type": "code",
   "execution_count": 13,
   "id": "b9cfe361",
   "metadata": {},
   "outputs": [],
   "source": [
    "# More concrete example: Take the first polygon in the above\n",
    "key=58\n",
    "angles=s1.polygon_angles[key]\n",
    "polygons=s1.clean_polygons[key]\n",
    "gains=s1.clean_polygon_gains[key]\n",
    "i=0\n",
    "polygon=polygons[i]\n",
    "coords=angles[polygon,:]\n",
    "active_vertex=s1.V[key,:]\n",
    "coefficient=s1.clean_polygon_gains[key][i]"
   ]
  }
 ],
 "metadata": {
  "kernelspec": {
   "display_name": "Python [conda env:november] *",
   "language": "python",
   "name": "conda-env-november-py"
  },
  "language_info": {
   "codemirror_mode": {
    "name": "ipython",
    "version": 3
   },
   "file_extension": ".py",
   "mimetype": "text/x-python",
   "name": "python",
   "nbconvert_exporter": "python",
   "pygments_lexer": "ipython3",
   "version": "3.9.18"
  }
 },
 "nbformat": 4,
 "nbformat_minor": 5
}
