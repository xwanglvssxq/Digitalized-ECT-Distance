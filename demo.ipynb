{
 "cells": [
  {
   "cell_type": "code",
   "execution_count": 1,
   "id": "d286640c",
   "metadata": {},
   "outputs": [],
   "source": [
    "from shape_reader import ShapeReader\n",
    "import numpy as np"
   ]
  },
  {
   "cell_type": "code",
   "execution_count": 2,
   "id": "1bb1ff97",
   "metadata": {},
   "outputs": [],
   "source": [
    "s1=ShapeReader.shape_from_file('mesh3b.off')\n",
    "s1.prepare()\n",
    "s1.compute_links()\n",
    "s1.compute_triple_points()"
   ]
  },
  {
   "cell_type": "code",
   "execution_count": 3,
   "id": "c5579999",
   "metadata": {},
   "outputs": [],
   "source": [
    "s1.compute_delaunay_triangles()"
   ]
  },
  {
   "cell_type": "code",
   "execution_count": null,
   "id": "935e5727",
   "metadata": {},
   "outputs": [],
   "source": []
  },
  {
   "cell_type": "code",
   "execution_count": null,
   "id": "94a91244",
   "metadata": {},
   "outputs": [],
   "source": [
    "s1.compute_gains()"
   ]
  },
  {
   "cell_type": "code",
   "execution_count": null,
   "id": "b150d68d",
   "metadata": {},
   "outputs": [],
   "source": [
    "s1.links"
   ]
  },
  {
   "cell_type": "code",
   "execution_count": null,
   "id": "26b3da59",
   "metadata": {},
   "outputs": [],
   "source": [
    "s1.polygon_angles"
   ]
  },
  {
   "cell_type": "code",
   "execution_count": null,
   "id": "3a5043c8",
   "metadata": {},
   "outputs": [],
   "source": [
    "s1.clean_triangles()"
   ]
  },
  {
   "cell_type": "code",
   "execution_count": null,
   "id": "69c6e2f0",
   "metadata": {},
   "outputs": [],
   "source": [
    "s1.clean_polygon_triangles"
   ]
  },
  {
   "cell_type": "code",
   "execution_count": null,
   "id": "9f093694",
   "metadata": {},
   "outputs": [],
   "source": [
    "s1.sphere_point_names[0][s1.clean_polygon_triangles[0][0,0]]"
   ]
  },
  {
   "cell_type": "code",
   "execution_count": null,
   "id": "d4fff2a2",
   "metadata": {},
   "outputs": [],
   "source": [
    "s1.clean_polygon_triangles[1]"
   ]
  },
  {
   "cell_type": "code",
   "execution_count": null,
   "id": "98980d2c",
   "metadata": {},
   "outputs": [],
   "source": [
    "s1.V"
   ]
  },
  {
   "cell_type": "code",
   "execution_count": null,
   "id": "1387c0e4",
   "metadata": {},
   "outputs": [],
   "source": [
    "s1.links[4]s1.clean_polygon_triangles[4]"
   ]
  },
  {
   "cell_type": "code",
   "execution_count": null,
   "id": "1aa45b4f",
   "metadata": {},
   "outputs": [],
   "source": [
    "s1.clean_polygon_triangles[0][0,0]"
   ]
  },
  {
   "cell_type": "code",
   "execution_count": null,
   "id": "63d81cfa",
   "metadata": {},
   "outputs": [],
   "source": [
    "s1.clean_polygon_triangles[0]"
   ]
  },
  {
   "cell_type": "code",
   "execution_count": null,
   "id": "6a7a7766",
   "metadata": {},
   "outputs": [],
   "source": [
    "T1=s1.clean_polygon_triangles[0][4,:]\n",
    "s1.links[0][[3,0]]"
   ]
  },
  {
   "cell_type": "code",
   "execution_count": null,
   "id": "9ae76bdc",
   "metadata": {},
   "outputs": [],
   "source": [
    "s1.links[0][[1,2]]"
   ]
  },
  {
   "cell_type": "code",
   "execution_count": null,
   "id": "760a8995",
   "metadata": {},
   "outputs": [],
   "source": [
    "s1.links[0][[1,3]]"
   ]
  },
  {
   "cell_type": "code",
   "execution_count": null,
   "id": "b543fd75",
   "metadata": {},
   "outputs": [],
   "source": [
    "s1.sphere_point_names[0][T1,:]"
   ]
  },
  {
   "cell_type": "code",
   "execution_count": null,
   "id": "38749505",
   "metadata": {},
   "outputs": [],
   "source": [
    "T1"
   ]
  },
  {
   "cell_type": "code",
   "execution_count": null,
   "id": "c7090c36",
   "metadata": {},
   "outputs": [],
   "source": [
    "## Bug hunting November 14: Why do we get different names for the same point?\n",
    "s1."
   ]
  },
  {
   "cell_type": "code",
   "execution_count": 6,
   "id": "78c8c367",
   "metadata": {},
   "outputs": [],
   "source": [
    "from scipy.spatial import Delaunay"
   ]
  },
  {
   "cell_type": "code",
   "execution_count": null,
   "id": "95c64e69",
   "metadata": {},
   "outputs": [],
   "source": [
    "row=np.delete(row,0)"
   ]
  },
  {
   "cell_type": "code",
   "execution_count": null,
   "id": "72948c94",
   "metadata": {},
   "outputs": [],
   "source": [
    "row"
   ]
  },
  {
   "cell_type": "code",
   "execution_count": null,
   "id": "785b2317",
   "metadata": {},
   "outputs": [],
   "source": [
    "telek"
   ]
  },
  {
   "cell_type": "code",
   "execution_count": 4,
   "id": "859fbbe9",
   "metadata": {},
   "outputs": [
    {
     "data": {
      "text/plain": [
       "array([[ 6,  9,  1],\n",
       "       [ 6,  9,  8],\n",
       "       [ 5,  9,  8],\n",
       "       [ 2,  9,  1],\n",
       "       [ 7,  5,  0],\n",
       "       [ 7,  5,  8],\n",
       "       [10,  2,  0],\n",
       "       [10,  2,  9],\n",
       "       [10,  5,  0],\n",
       "       [10,  5,  9],\n",
       "       [ 3,  2,  0],\n",
       "       [ 3,  7,  0],\n",
       "       [ 3,  7,  8],\n",
       "       [ 4,  6,  8],\n",
       "       [ 4,  3,  8],\n",
       "       [11,  2,  1],\n",
       "       [11,  3,  2],\n",
       "       [11,  4,  3],\n",
       "       [11,  6,  1],\n",
       "       [11,  4,  6]])"
      ]
     },
     "execution_count": 4,
     "metadata": {},
     "output_type": "execute_result"
    }
   ],
   "source": [
    "s1.polygon_triangles[0]"
   ]
  },
  {
   "cell_type": "code",
   "execution_count": 8,
   "id": "bba616d9",
   "metadata": {},
   "outputs": [
    {
     "data": {
      "text/plain": [
       "array([[10,  1,  3],\n",
       "       [11,  4,  9],\n",
       "       [11,  1,  4],\n",
       "       [ 6,  1,  3],\n",
       "       [ 6,  1,  4],\n",
       "       [ 8,  0,  9],\n",
       "       [ 8, 11,  9],\n",
       "       [ 8, 11,  1],\n",
       "       [ 8,  0, 10],\n",
       "       [ 8, 10,  1],\n",
       "       [ 7,  4,  9],\n",
       "       [ 7,  0, 10],\n",
       "       [ 7,  0,  9],\n",
       "       [ 5, 10,  3],\n",
       "       [ 5,  7, 10],\n",
       "       [ 2,  6,  4],\n",
       "       [ 2,  7,  4],\n",
       "       [ 2,  5,  7],\n",
       "       [ 2,  6,  3],\n",
       "       [ 2,  5,  3]])"
      ]
     },
     "execution_count": 8,
     "metadata": {},
     "output_type": "execute_result"
    }
   ],
   "source": [
    "D1"
   ]
  },
  {
   "cell_type": "code",
   "execution_count": 7,
   "id": "1c944002",
   "metadata": {},
   "outputs": [],
   "source": [
    "key=0\n",
    "for key in s1.polygon_angles:\n",
    "    test=s1.polygon_angles[key]\n",
    "    t1=np.array([0,0,0])\n",
    "    t1=t1.reshape(1,-1)\n",
    "    t2=np.concatenate([test,t1])\n",
    "    D2=Delaunay(t2)\n",
    "    #print(D2.simplices)\n",
    "    telek=D2.simplices\n",
    "    # post processing here\n",
    "    D1=np.zeros(telek[:,1:4].shape,dtype=int)\n",
    "    #import pdb; pdb.set_trace()\n",
    "    for i in range(telek.shape[0]):\n",
    "        row=telek[i,:]\n",
    "        index=np.where(row==np.max(row))\n",
    "        newrow=np.delete(row,index)\n",
    "        #import pdb; pdb.set_trace()\n",
    "        #if index[0][0]%2==1:\n",
    "        #    newrow=[newrow[1],newrow[0],newrow[2]]\n",
    "        D1[i,:]=newrow\n",
    "#            print(D2.simplices)\n",
    "    #D1=D1-1 # Stupid index thingy\n",
    "    midpoints=np.zeros(D1.shape)\n",
    "    for i in range(D1.shape[0]):\n",
    "        tmp=np.mean(test[D1[i]],1)\n",
    "        midpoints[i]=tmp/(sum(tmp**2))**(0.5)"
   ]
  },
  {
   "cell_type": "code",
   "execution_count": null,
   "id": "43eeeb81",
   "metadata": {},
   "outputs": [],
   "source": [
    "s1.polygon_triangles[0]"
   ]
  },
  {
   "cell_type": "code",
   "execution_count": null,
   "id": "1109b7e4",
   "metadata": {},
   "outputs": [],
   "source": [
    "D1"
   ]
  },
  {
   "cell_type": "code",
   "execution_count": null,
   "id": "dd7b8ff0",
   "metadata": {},
   "outputs": [],
   "source": [
    "D2.simplices"
   ]
  },
  {
   "cell_type": "code",
   "execution_count": null,
   "id": "36f96f72",
   "metadata": {},
   "outputs": [],
   "source": [
    "D1"
   ]
  },
  {
   "cell_type": "code",
   "execution_count": null,
   "id": "c55b5b56",
   "metadata": {},
   "outputs": [],
   "source": [
    "t2"
   ]
  },
  {
   "cell_type": "code",
   "execution_count": null,
   "id": "cd0661f6",
   "metadata": {},
   "outputs": [],
   "source": [
    "D2.simplices"
   ]
  },
  {
   "cell_type": "code",
   "execution_count": null,
   "id": "69c74ec6",
   "metadata": {},
   "outputs": [],
   "source": [
    "test.shape"
   ]
  },
  {
   "cell_type": "code",
   "execution_count": null,
   "id": "8f05b2ee",
   "metadata": {},
   "outputs": [],
   "source": [
    "D2=Delaunay(t2)"
   ]
  },
  {
   "cell_type": "code",
   "execution_count": null,
   "id": "ccfb1b55",
   "metadata": {},
   "outputs": [],
   "source": [
    "D2.simplices"
   ]
  },
  {
   "cell_type": "code",
   "execution_count": null,
   "id": "541b93df",
   "metadata": {},
   "outputs": [],
   "source": []
  },
  {
   "cell_type": "code",
   "execution_count": null,
   "id": "6fb26afc",
   "metadata": {},
   "outputs": [],
   "source": []
  },
  {
   "cell_type": "code",
   "execution_count": null,
   "id": "93f9418e",
   "metadata": {},
   "outputs": [],
   "source": [
    "T1"
   ]
  },
  {
   "cell_type": "code",
   "execution_count": null,
   "id": "bf00e425",
   "metadata": {},
   "outputs": [],
   "source": [
    "T1=s1.clean_polygon_triangles[0][0,:]"
   ]
  },
  {
   "cell_type": "code",
   "execution_count": null,
   "id": "365d3624",
   "metadata": {},
   "outputs": [],
   "source": [
    "s1.polygon_angles[0][T1,:]"
   ]
  },
  {
   "cell_type": "code",
   "execution_count": null,
   "id": "72b61c75",
   "metadata": {},
   "outputs": [],
   "source": [
    "s1.polygon_angles[0]"
   ]
  },
  {
   "cell_type": "code",
   "execution_count": null,
   "id": "9c8770eb",
   "metadata": {},
   "outputs": [],
   "source": [
    "s1.polygon_angles[4]"
   ]
  },
  {
   "cell_type": "code",
   "execution_count": null,
   "id": "aca142e3",
   "metadata": {},
   "outputs": [],
   "source": [
    "s1.clean_polygon_triangles[4][8,1]"
   ]
  },
  {
   "cell_type": "code",
   "execution_count": null,
   "id": "2646a92c",
   "metadata": {},
   "outputs": [],
   "source": [
    "s1.clean_polygon_triangles[0][0,0]"
   ]
  },
  {
   "cell_type": "code",
   "execution_count": null,
   "id": "c7689411",
   "metadata": {},
   "outputs": [],
   "source": [
    "s1.sphere_point_names[0][s1.clean_polygon_triangles[0][0,0]]"
   ]
  },
  {
   "cell_type": "code",
   "execution_count": null,
   "id": "6ff26931",
   "metadata": {},
   "outputs": [],
   "source": [
    "s1.clean_polygon_triangles[4][9,1]"
   ]
  },
  {
   "cell_type": "code",
   "execution_count": null,
   "id": "4fe75487",
   "metadata": {},
   "outputs": [],
   "source": [
    "tmp3=s1.sphere_point_names[0][s1.clean_polygon_triangles[0][0,0]]"
   ]
  },
  {
   "cell_type": "code",
   "execution_count": null,
   "id": "6ff151c2",
   "metadata": {
    "scrolled": true
   },
   "outputs": [],
   "source": [
    "tmp2=s1.sphere_point_names[4][s1.clean_polygon_triangles[4][9,1]]"
   ]
  },
  {
   "cell_type": "code",
   "execution_count": null,
   "id": "20d0cc38",
   "metadata": {},
   "outputs": [],
   "source": [
    "s1.links[0][tmp3.astype(int)]"
   ]
  },
  {
   "cell_type": "code",
   "execution_count": null,
   "id": "f70bebaf",
   "metadata": {},
   "outputs": [],
   "source": [
    "s1.links[4][tmp2.astype(int)]"
   ]
  },
  {
   "cell_type": "code",
   "execution_count": null,
   "id": "2a4c9626",
   "metadata": {},
   "outputs": [],
   "source": [
    "s1.sphere_point_names[1][s1.clean_polygon_triangles[1][2,0]]"
   ]
  },
  {
   "cell_type": "code",
   "execution_count": null,
   "id": "e8a26032",
   "metadata": {},
   "outputs": [],
   "source": [
    "s1.sphere_point_names[4][s1.clean_polygon_triangles[4][9,1]]"
   ]
  },
  {
   "cell_type": "code",
   "execution_count": null,
   "id": "441e03c7",
   "metadata": {},
   "outputs": [],
   "source": [
    "s1.sphere_point_names[0]"
   ]
  },
  {
   "cell_type": "code",
   "execution_count": null,
   "id": "f6273d67",
   "metadata": {},
   "outputs": [],
   "source": [
    "s1.sphere_point_names[1][s1.clean_polygon_triangles[1][0,:]]"
   ]
  },
  {
   "cell_type": "code",
   "execution_count": null,
   "id": "3c49b877",
   "metadata": {},
   "outputs": [],
   "source": [
    "for key in s1.sphere_point_names:\n",
    "    print(key)\n",
    "    print(s1.sphere_point_names[key][s1.clean_polygon_triangles[key][0,:]])"
   ]
  },
  {
   "cell_type": "code",
   "execution_count": null,
   "id": "7e8a7464",
   "metadata": {},
   "outputs": [],
   "source": [
    "s1.clean_polygon_triangles"
   ]
  },
  {
   "cell_type": "code",
   "execution_count": null,
   "id": "1912fe11",
   "metadata": {},
   "outputs": [],
   "source": [
    "s1.clean_polygon_gains"
   ]
  },
  {
   "cell_type": "code",
   "execution_count": null,
   "id": "4e16778c",
   "metadata": {},
   "outputs": [],
   "source": [
    "s1.V"
   ]
  },
  {
   "cell_type": "code",
   "execution_count": null,
   "id": "6a3ad6cb",
   "metadata": {},
   "outputs": [],
   "source": [
    "s1.links"
   ]
  },
  {
   "cell_type": "code",
   "execution_count": null,
   "id": "4d3e2597",
   "metadata": {},
   "outputs": [],
   "source": [
    "s1.polygon_angles[0].shape"
   ]
  },
  {
   "cell_type": "code",
   "execution_count": null,
   "id": "3d97dde3",
   "metadata": {},
   "outputs": [],
   "source": [
    "s1.sphere_point_names[0]"
   ]
  },
  {
   "cell_type": "code",
   "execution_count": null,
   "id": "6a9cfe85",
   "metadata": {},
   "outputs": [],
   "source": [
    "s1.polygon_gains[0].shape"
   ]
  },
  {
   "cell_type": "code",
   "execution_count": null,
   "id": "56919f50",
   "metadata": {},
   "outputs": [],
   "source": [
    "s1.polygon_triangles[0].shape"
   ]
  },
  {
   "cell_type": "code",
   "execution_count": null,
   "id": "8ff2641b",
   "metadata": {},
   "outputs": [],
   "source": []
  },
  {
   "cell_type": "code",
   "execution_count": null,
   "id": "ba3ccc79",
   "metadata": {},
   "outputs": [],
   "source": [
    "tmp=np.where(s1.polygon_gains[0]!=0)[0]\n",
    "s1.polygon_triangles[0][tmp,:]\n",
    "s1.polygon_gains[0][tmp]"
   ]
  },
  {
   "cell_type": "code",
   "execution_count": null,
   "id": "237fb254",
   "metadata": {},
   "outputs": [],
   "source": [
    "tmp"
   ]
  },
  {
   "cell_type": "code",
   "execution_count": null,
   "id": "804d10d1",
   "metadata": {},
   "outputs": [],
   "source": [
    "list(tmp)"
   ]
  },
  {
   "cell_type": "code",
   "execution_count": null,
   "id": "ef4c80bd",
   "metadata": {},
   "outputs": [],
   "source": [
    "s1.polygon_gains[0]!=0"
   ]
  },
  {
   "cell_type": "code",
   "execution_count": null,
   "id": "40aaf460",
   "metadata": {},
   "outputs": [],
   "source": []
  },
  {
   "cell_type": "code",
   "execution_count": null,
   "id": "c504fb28",
   "metadata": {},
   "outputs": [],
   "source": [
    "s1.sphere_point_names"
   ]
  },
  {
   "cell_type": "code",
   "execution_count": null,
   "id": "67cc0e76",
   "metadata": {},
   "outputs": [],
   "source": [
    "s1.polygon_triangles[0].shape"
   ]
  },
  {
   "cell_type": "code",
   "execution_count": null,
   "id": "b334df16",
   "metadata": {},
   "outputs": [],
   "source": [
    "s1.sphere_point_names[0][11]"
   ]
  },
  {
   "cell_type": "code",
   "execution_count": null,
   "id": "659c9042",
   "metadata": {},
   "outputs": [],
   "source": [
    "s1.polygon_triangles[0]"
   ]
  },
  {
   "cell_type": "code",
   "execution_count": null,
   "id": "b2f8b24a",
   "metadata": {},
   "outputs": [],
   "source": [
    "s1.polygon_angles"
   ]
  },
  {
   "cell_type": "code",
   "execution_count": null,
   "id": "b08005b7",
   "metadata": {},
   "outputs": [],
   "source": [
    "s1.V[0,:]"
   ]
  },
  {
   "cell_type": "code",
   "execution_count": null,
   "id": "d2b59f22",
   "metadata": {},
   "outputs": [],
   "source": [
    "s1.V"
   ]
  },
  {
   "cell_type": "code",
   "execution_count": null,
   "id": "7ed15066",
   "metadata": {},
   "outputs": [],
   "source": [
    "triangle=s1.polygon_triangles[key][i,:]"
   ]
  },
  {
   "cell_type": "code",
   "execution_count": null,
   "id": "20671207",
   "metadata": {},
   "outputs": [],
   "source": [
    "activepoint=s1.V[key,:]"
   ]
  },
  {
   "cell_type": "code",
   "execution_count": null,
   "id": "cce7c2a1",
   "metadata": {},
   "outputs": [],
   "source": [
    "s1.polygon_triangles"
   ]
  },
  {
   "cell_type": "code",
   "execution_count": null,
   "id": "4ceb9b2c",
   "metadata": {},
   "outputs": [],
   "source": [
    "s1.V"
   ]
  },
  {
   "cell_type": "code",
   "execution_count": null,
   "id": "f4271926",
   "metadata": {},
   "outputs": [],
   "source": [
    "3%2"
   ]
  },
  {
   "cell_type": "code",
   "execution_count": null,
   "id": "fa9ff7fc",
   "metadata": {},
   "outputs": [],
   "source": [
    "row=s1.polygon_triangles[0][0,:]"
   ]
  },
  {
   "cell_type": "code",
   "execution_count": null,
   "id": "deb07e9b",
   "metadata": {},
   "outputs": [],
   "source": [
    "from functools import partial\n",
    "\n",
    "def reorder_from_idx(idx, a):\n",
    "    return a[idx:] + a[:idx]\n",
    "\n",
    "def cyclic_perm(a):\n",
    "    return [partial(reorder_from_idx, i) for i in range(len(a))]\n"
   ]
  },
  {
   "cell_type": "code",
   "execution_count": null,
   "id": "b5a6aa1b",
   "metadata": {},
   "outputs": [],
   "source": [
    "row"
   ]
  },
  {
   "cell_type": "code",
   "execution_count": null,
   "id": "7ad85be1",
   "metadata": {},
   "outputs": [],
   "source": [
    "reorder_from_idx(1,row)"
   ]
  },
  {
   "cell_type": "code",
   "execution_count": null,
   "id": "0ee48e2f",
   "metadata": {},
   "outputs": [],
   "source": [
    "cyclic_perm(row)"
   ]
  },
  {
   "cell_type": "code",
   "execution_count": null,
   "id": "becb6dfd",
   "metadata": {},
   "outputs": [],
   "source": [
    "s1.polygon_triangles"
   ]
  },
  {
   "cell_type": "code",
   "execution_count": null,
   "id": "f9944dbb",
   "metadata": {},
   "outputs": [],
   "source": [
    "s1.T"
   ]
  },
  {
   "cell_type": "code",
   "execution_count": null,
   "id": "9e1b91c4",
   "metadata": {},
   "outputs": [],
   "source": [
    "s1.links"
   ]
  },
  {
   "cell_type": "code",
   "execution_count": null,
   "id": "95ecf32b",
   "metadata": {},
   "outputs": [],
   "source": [
    "verts=s1.polygon_angles[0]"
   ]
  },
  {
   "cell_type": "code",
   "execution_count": null,
   "id": "b9a35ad7",
   "metadata": {},
   "outputs": [],
   "source": [
    "s1.verx"
   ]
  },
  {
   "cell_type": "code",
   "execution_count": null,
   "id": "eb275b37",
   "metadata": {},
   "outputs": [],
   "source": [
    "verts"
   ]
  },
  {
   "cell_type": "code",
   "execution_count": null,
   "id": "7b10b427",
   "metadata": {},
   "outputs": [],
   "source": [
    "for j in range(verts.shape[0]):\n",
    "    print(sum(verts[j,:]**2))"
   ]
  },
  {
   "cell_type": "code",
   "execution_count": null,
   "id": "d1731766",
   "metadata": {},
   "outputs": [],
   "source": [
    "s1.sphere_point_name"
   ]
  },
  {
   "cell_type": "code",
   "execution_count": null,
   "id": "95d645a5",
   "metadata": {},
   "outputs": [],
   "source": [
    "sum(verts[0,:]**2)"
   ]
  },
  {
   "cell_type": "code",
   "execution_count": null,
   "id": "fb54fdcb",
   "metadata": {},
   "outputs": [],
   "source": [
    "sum(verts[1,:]**2)"
   ]
  },
  {
   "cell_type": "code",
   "execution_count": null,
   "id": "d75024a4",
   "metadata": {},
   "outputs": [],
   "source": [
    "triangles=s1.polygon_triangles[0]"
   ]
  },
  {
   "cell_type": "code",
   "execution_count": null,
   "id": "e72f2d0b",
   "metadata": {},
   "outputs": [],
   "source": [
    "s1.polygon_angles"
   ]
  },
  {
   "cell_type": "code",
   "execution_count": null,
   "id": "4fb320d8",
   "metadata": {},
   "outputs": [],
   "source": [
    "s1.polygon_triangles"
   ]
  },
  {
   "cell_type": "code",
   "execution_count": null,
   "id": "50b9fcdb",
   "metadata": {},
   "outputs": [],
   "source": [
    "s1.polygon_gains"
   ]
  },
  {
   "cell_type": "code",
   "execution_count": null,
   "id": "4fd9a6c9",
   "metadata": {},
   "outputs": [],
   "source": [
    "verts"
   ]
  },
  {
   "cell_type": "code",
   "execution_count": null,
   "id": "29e140c4",
   "metadata": {},
   "outputs": [],
   "source": [
    "triangles"
   ]
  },
  {
   "cell_type": "code",
   "execution_count": null,
   "id": "1ecb3408",
   "metadata": {},
   "outputs": [],
   "source": [
    "gains=s1.polygon_gains[0]"
   ]
  },
  {
   "cell_type": "code",
   "execution_count": null,
   "id": "a90f462c",
   "metadata": {},
   "outputs": [],
   "source": [
    "gains"
   ]
  },
  {
   "cell_type": "code",
   "execution_count": null,
   "id": "d10395aa",
   "metadata": {},
   "outputs": [],
   "source": [
    "s1.polygon_angles"
   ]
  },
  {
   "cell_type": "code",
   "execution_count": null,
   "id": "e30880f4",
   "metadata": {},
   "outputs": [],
   "source": [
    "s1.polygon_gains"
   ]
  },
  {
   "cell_type": "code",
   "execution_count": null,
   "id": "12c62f96",
   "metadata": {},
   "outputs": [],
   "source": []
  }
 ],
 "metadata": {
  "kernelspec": {
   "display_name": "Python [conda env:telekinetic] *",
   "language": "python",
   "name": "conda-env-telekinetic-py"
  },
  "language_info": {
   "codemirror_mode": {
    "name": "ipython",
    "version": 3
   },
   "file_extension": ".py",
   "mimetype": "text/x-python",
   "name": "python",
   "nbconvert_exporter": "python",
   "pygments_lexer": "ipython3",
   "version": "3.9.17"
  }
 },
 "nbformat": 4,
 "nbformat_minor": 5
}
