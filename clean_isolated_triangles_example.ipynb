{
 "cells": [
  {
   "cell_type": "code",
   "execution_count": 1,
   "id": "8933127b",
   "metadata": {},
   "outputs": [
    {
     "name": "stdout",
     "output_type": "stream",
     "text": [
      "221\n"
     ]
    }
   ],
   "source": [
    "from shape_reader import ShapeReader\n",
    "import numpy as np\n",
    "s2=ShapeReader.shape_from_file('0.5kv_meshes/t09_sas_aligned.off')\n",
    "for i in range(s2.V.shape[0]):\n",
    "    s2.V[i,:]=s2.V[i,:]/(np.sum(s2.V[i,:]**2)**(0.5))\n",
    "s2.prepare()\n",
    "s2.compute_links()\n",
    "s2.clean_isolated_triangles()"
   ]
  },
  {
   "cell_type": "code",
   "execution_count": null,
   "id": "a2514288",
   "metadata": {},
   "outputs": [],
   "source": []
  }
 ],
 "metadata": {
  "kernelspec": {
   "display_name": "Python [conda env:november] *",
   "language": "python",
   "name": "conda-env-november-py"
  },
  "language_info": {
   "codemirror_mode": {
    "name": "ipython",
    "version": 3
   },
   "file_extension": ".py",
   "mimetype": "text/x-python",
   "name": "python",
   "nbconvert_exporter": "python",
   "pygments_lexer": "ipython3",
   "version": "3.9.18"
  }
 },
 "nbformat": 4,
 "nbformat_minor": 5
}
